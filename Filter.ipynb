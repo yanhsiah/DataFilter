{
 "cells": [
  {
   "cell_type": "code",
   "execution_count": 95,
   "metadata": {},
   "outputs": [],
   "source": [
    "import pandas as pd\n",
    "import numpy as np\n",
    "import math\n",
    "import sys\n",
    "from statistics import mean"
   ]
  },
  {
   "cell_type": "code",
   "execution_count": 107,
   "metadata": {},
   "outputs": [],
   "source": [
    "# constants\n",
    "sample_size = 31\n",
    "sample_radius = math.floor(sample_size / 2)\n",
    "cols = ['ch0', 'ch1', 'ch2', 'ch3']\n",
    "num_files = 17"
   ]
  },
  {
   "cell_type": "code",
   "execution_count": 108,
   "metadata": {},
   "outputs": [],
   "source": [
    "# find stable high and low\n",
    "def find_high_low(ds):\n",
    "    freq_count = ds.value_counts(normalize=True)\n",
    "\n",
    "    indexes = []\n",
    "    index = 0\n",
    "    ratio = 0\n",
    "    mix_avg = 0\n",
    "    for voltage, freq in freq_count.iteritems():\n",
    "        ratio = ratio + freq\n",
    "        mix_avg += voltage\n",
    "        indexes.append(index)\n",
    "        if ratio > 0.7:\n",
    "            break\n",
    "        index += 1\n",
    "    mix_avg /= (index + 1)\n",
    "    # print(mix_avg)\n",
    "\n",
    "    high = 0\n",
    "    high_portion = 0\n",
    "    low = 0\n",
    "    low_portion = 0\n",
    "    for voltage, freq in freq_count.iteritems():\n",
    "        # print(voltage, freq)\n",
    "        if index < 0:\n",
    "            break\n",
    "        if voltage > mix_avg:\n",
    "            high += voltage * freq\n",
    "            high_portion += freq\n",
    "        else:\n",
    "            low += voltage * freq\n",
    "            low_portion += freq\n",
    "        index -= 1\n",
    "\n",
    "    return high / high_portion, low / low_portion"
   ]
  },
  {
   "cell_type": "code",
   "execution_count": 115,
   "metadata": {},
   "outputs": [],
   "source": [
    "# crop the pick up and drop down segments\n",
    "def crop(input_file_path, output_file_path):\n",
    "    # step 0: read input file\n",
    "    \n",
    "    df = pd.read_csv(input_file_path, usecols=cols)\n",
    "    # get middle from high, low\n",
    "    total_rows = df.shape[0]\n",
    "    high, low = find_high_low(df.round(6)[cols[0]])\n",
    "    # high, low = 4.8059039E-05, 2.3650005E-05\n",
    "    middle = (high + low) / 2.0\n",
    "\n",
    "    # step 1:\n",
    "    picked_prev = False\n",
    "    changing_points = []\n",
    "    for i in range(total_rows):\n",
    "        picked_curr = df.loc[i][0] < middle\n",
    "        if bool(picked_prev) ^ bool(picked_curr):\n",
    "            changing_points.append(i)\n",
    "            picked_prev = picked_curr\n",
    "    # print(changing_points)\n",
    "    \n",
    "    # step 2:\n",
    "    indexes = []\n",
    "    fluctuation = []\n",
    "    changing_points.append(sys.float_info.max)\n",
    "    for i in range(1, len(changing_points)):\n",
    "        changing_point = changing_points[i - 1]\n",
    "        fluctuation.append(changing_point)\n",
    "        if changing_points[i] - changing_point > sample_radius: \n",
    "            changing_point = math.floor(mean(fluctuation))\n",
    "            fluctuation = []\n",
    "            # indexes.append(changing_point)\n",
    "            indexes.append([changing_point - sample_radius, changing_point + sample_radius])\n",
    "    # print(indexes)\n",
    "\n",
    "    # step 3:\n",
    "    parsed = pd.DataFrame()\n",
    "    for index in indexes:\n",
    "        parsed = parsed.append(pd.DataFrame(df.loc[index[0]:index[1]]))\n",
    "    parsed.to_csv(output_file_path)\n",
    "    print('p&d = ', len(indexes), 'output to', output_file_path)\n",
    "    \n",
    "    return high, low"
   ]
  },
  {
   "cell_type": "code",
   "execution_count": 118,
   "metadata": {},
   "outputs": [],
   "source": [
    "def process_folder(dir_name):\n",
    "    metadata = pd.DataFrame(columns=['high', 'low'])\n",
    "    for i in range(num_files):\n",
    "        input_file_path = dir_name + '/' + str(i) + '.csv'\n",
    "        output_file_path = 'filtered_' + input_file_path\n",
    "        high, low = crop(input_file_path, output_file_path)\n",
    "        metadata = metadata.append(pd.DataFrame([[high, low]], columns=['high', 'low']), ignore_index=True)\n",
    "\n",
    "    metadata.to_csv('filtered_' + dir_name + '/metadata.csv')\n",
    "    print(metadata)"
   ]
  },
  {
   "cell_type": "code",
   "execution_count": 119,
   "metadata": {},
   "outputs": [
    {
     "name": "stdout",
     "output_type": "stream",
     "text": [
      "p&d =  15 output to filtered_chocolate/0.csv\n",
      "p&d =  16 output to filtered_chocolate/1.csv\n",
      "p&d =  16 output to filtered_chocolate/2.csv\n",
      "p&d =  16 output to filtered_chocolate/3.csv\n",
      "p&d =  16 output to filtered_chocolate/4.csv\n",
      "p&d =  17 output to filtered_chocolate/5.csv\n",
      "p&d =  17 output to filtered_chocolate/6.csv\n",
      "p&d =  17 output to filtered_chocolate/7.csv\n",
      "p&d =  18 output to filtered_chocolate/8.csv\n",
      "p&d =  18 output to filtered_chocolate/9.csv\n",
      "p&d =  16 output to filtered_chocolate/10.csv\n",
      "p&d =  18 output to filtered_chocolate/11.csv\n",
      "p&d =  18 output to filtered_chocolate/12.csv\n",
      "p&d =  18 output to filtered_chocolate/13.csv\n",
      "p&d =  19 output to filtered_chocolate/14.csv\n",
      "p&d =  20 output to filtered_chocolate/15.csv\n",
      "p&d =  18 output to filtered_chocolate/16.csv\n",
      "        high       low\n",
      "0   0.000051  0.000024\n",
      "1   0.000048  0.000023\n",
      "2   0.000047  0.000022\n",
      "3   0.000047  0.000018\n",
      "4   0.000047  0.000018\n",
      "5   0.000046  0.000018\n",
      "6   0.000044  0.000018\n",
      "7   0.000042  0.000018\n",
      "8   0.000042  0.000019\n",
      "9   0.000043  0.000019\n",
      "10  0.000042  0.000020\n",
      "11  0.000042  0.000020\n",
      "12  0.000042  0.000020\n",
      "13  0.000042  0.000021\n",
      "14  0.000044  0.000019\n",
      "15  0.000042  0.000019\n",
      "16  0.000043  0.000021\n"
     ]
    }
   ],
   "source": [
    "for folder : ['chocolate', 'pasta']\n",
    "\n",
    "\n",
    "process_folder('')"
   ]
  }
 ],
 "metadata": {
  "kernelspec": {
   "display_name": "Python 3",
   "language": "python",
   "name": "python3"
  },
  "language_info": {
   "codemirror_mode": {
    "name": "ipython",
    "version": 3
   },
   "file_extension": ".py",
   "mimetype": "text/x-python",
   "name": "python",
   "nbconvert_exporter": "python",
   "pygments_lexer": "ipython3",
   "version": "3.7.1"
  }
 },
 "nbformat": 4,
 "nbformat_minor": 2
}
