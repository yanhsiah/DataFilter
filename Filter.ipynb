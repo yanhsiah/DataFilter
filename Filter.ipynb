{
 "cells": [
  {
   "cell_type": "code",
   "execution_count": 218,
   "metadata": {},
   "outputs": [],
   "source": [
    "import pandas as pd\n",
    "import math\n",
    "import sys\n",
    "from statistics import mean"
   ]
  },
  {
   "cell_type": "code",
   "execution_count": 219,
   "metadata": {},
   "outputs": [],
   "source": [
    "df = pd.read_csv(\"chocolate/0.csv\", usecols=['ch0', 'ch1', 'ch2', 'ch3'])\n",
    "# print(df)\n",
    "# pct_change = df.pct_change()\n",
    "# print(pch_change)"
   ]
  },
  {
   "cell_type": "code",
   "execution_count": 220,
   "metadata": {},
   "outputs": [
    {
     "name": "stdout",
     "output_type": "stream",
     "text": [
      "[47, 161, 162, 166, 231, 344, 347, 350, 420, 532, 536, 539, 612, 729, 731, 732, 796, 900, 903, 904, 964, 1039, 1041, 1042, 1101, 1173, 1174, 1179, 1180, 1181, 1182, 1183, 1246]\n"
     ]
    }
   ],
   "source": [
    "# manual input\n",
    "high_voltages = [4.8059039E-05,0.000175995752,4.0310435E-05,3.3339486E-05]\n",
    "low_voltages  = [2.3650005E-05, 0.000142542645, 1.8811785E-05, 3.214926E-06]\n",
    "\n",
    "total_rows = df.shape[0]\n",
    "middle = (low_voltages[0] + high_voltages[0]) / 2.0\n",
    "\n",
    "picked_prev = False\n",
    "changing_points = []\n",
    "\n",
    "for i in range(total_rows):\n",
    "    picked_curr = df.loc[i][0] < middle\n",
    "    if bool(picked_prev) ^ bool(picked_curr):\n",
    "        changing_points.append(i)\n",
    "    picked_prev = picked_curr\n",
    "\n",
    "print(changing_points)"
   ]
  },
  {
   "cell_type": "code",
   "execution_count": 222,
   "metadata": {},
   "outputs": [
    {
     "name": "stdout",
     "output_type": "stream",
     "text": [
      "[[32, 62], [148, 178], [216, 246], [332, 362], [405, 435], [520, 550], [597, 627], [715, 745], [781, 811], [887, 917], [949, 979], [1025, 1055], [1086, 1116], [1163, 1193], [1231, 1261]]\n"
     ]
    }
   ],
   "source": [
    "sample_size = 31\n",
    "sample_radius = math.floor(sample_size / 2)\n",
    "indexes = []\n",
    "fluctuation = []\n",
    "changing_points.append(sys.float_info.max)\n",
    "\n",
    "for i in range(1, len(changing_points)):\n",
    "    changing_point = changing_points[i - 1]\n",
    "    fluctuation.append(changing_point)\n",
    "    if changing_points[i] - changing_point > sample_radius: \n",
    "        changing_point = math.floor(mean(fluctuation))\n",
    "        fluctuation = []\n",
    "        # indexes.append(changing_point)\n",
    "        indexes.append([changing_point - sample_radius, changing_point + sample_radius])\n",
    "\n",
    "print(indexes)       "
   ]
  },
  {
   "cell_type": "code",
   "execution_count": 243,
   "metadata": {},
   "outputs": [],
   "source": [
    "# a = pd.DataFrame(pd.DataFrame(df.loc[32:62]))\n",
    "# b = pd.DataFrame(df.loc[148:178])\n",
    "# print(a)\n",
    "# print(b)\n",
    "# c = a.append(b)\n",
    "# print(c)\n",
    "\n",
    "parsed = pd.DataFrame()\n",
    "\n",
    "for index in indexes:\n",
    "    parsed = parsed.append(pd.DataFrame(df.loc[index[0]:index[1]]))\n",
    "\n",
    "parsed.to_csv('out0.csv')"
   ]
  },
  {
   "cell_type": "code",
   "execution_count": null,
   "metadata": {},
   "outputs": [],
   "source": []
  }
 ],
 "metadata": {
  "kernelspec": {
   "display_name": "Python 3",
   "language": "python",
   "name": "python3"
  },
  "language_info": {
   "codemirror_mode": {
    "name": "ipython",
    "version": 3
   },
   "file_extension": ".py",
   "mimetype": "text/x-python",
   "name": "python",
   "nbconvert_exporter": "python",
   "pygments_lexer": "ipython3",
   "version": "3.7.1"
  }
 },
 "nbformat": 4,
 "nbformat_minor": 2
}
