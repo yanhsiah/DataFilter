{
 "cells": [
  {
   "cell_type": "code",
   "execution_count": 3,
   "metadata": {},
   "outputs": [],
   "source": [
    "import numpy as np\n",
    "import matplotlib.pyplot as plt\n",
    "from sklearn import svm\n",
    "from matplotlib import style\n",
    "style.use('ggplot')"
   ]
  },
  {
   "cell_type": "code",
   "execution_count": 4,
   "metadata": {},
   "outputs": [],
   "source": [
    "# x = [1,5,1.5,8,1,9]\n",
    "# y = [2,8,1.8,8,0.6,11]\n",
    "\n",
    "# plt.scatter(x,y)\n",
    "# plt.show()"
   ]
  },
  {
   "cell_type": "code",
   "execution_count": 5,
   "metadata": {},
   "outputs": [
    {
     "name": "stdout",
     "output_type": "stream",
     "text": [
      "<class 'numpy.ndarray'> (5, 4)\n",
      "<class 'numpy.ndarray'> (5,) ['a0' 'a1' 'a0' 'a1' 'a2']\n"
     ]
    },
    {
     "data": {
      "text/plain": [
       "SVC(C=1.0, cache_size=200, class_weight=None, coef0=0.0,\n",
       "  decision_function_shape='ovr', degree=3, gamma='auto_deprecated',\n",
       "  kernel='linear', max_iter=-1, probability=False, random_state=None,\n",
       "  shrinking=True, tol=0.001, verbose=False)"
      ]
     },
     "execution_count": 5,
     "metadata": {},
     "output_type": "execute_result"
    }
   ],
   "source": [
    "# features\n",
    "X = np.array([\n",
    "    np.array([1,9,2,8]),\n",
    "    np.array([100, 101, 107, 108]),\n",
    "    np.array([98, 99, 80, 81]),\n",
    "    np.array([120, 121, 130, 131]),\n",
    "    np.array([1200, 1210, 1300, 1310])\n",
    "])\n",
    "\n",
    "# labels\n",
    "y = np.array([\"a0\",\"a1\",\"a0\",\"a1\",\"a2\"])\n",
    "\n",
    "print(type(X), X.shape)\n",
    "print(type(y), y.shape, y)\n",
    "\n",
    "clf = svm.SVC(kernel='linear', C=1.0)\n",
    "clf.fit(X, y)"
   ]
  },
  {
   "cell_type": "code",
   "execution_count": 6,
   "metadata": {},
   "outputs": [
    {
     "name": "stdout",
     "output_type": "stream",
     "text": [
      "['a2' 'a0' 'a1']\n"
     ]
    }
   ],
   "source": [
    "print(clf.predict([\n",
    "    np.array([1000.58,1000.76,1000.58,1000.76]),\n",
    "    np.array([0.58,0.76,0.58,0.76]),\n",
    "    np.array([110.58,110.76,110.58,110.76])\n",
    "]))"
   ]
  },
  {
   "cell_type": "code",
   "execution_count": 5,
   "metadata": {},
   "outputs": [
    {
     "name": "stdout",
     "output_type": "stream",
     "text": [
      "[0.06904715 0.12231209 0.06904715 0.12231209]\n"
     ]
    }
   ],
   "source": [
    "w = clf.coef_[0]\n",
    "print(w)"
   ]
  },
  {
   "cell_type": "code",
   "execution_count": null,
   "metadata": {},
   "outputs": [],
   "source": [
    "# https://scikit-learn.org/stable/auto_examples/exercises/plot_iris_exercise.html#sphx-glr-auto-examples-exercises-plot-iris-exercise-py\n",
    "# https://pythonprogramming.net/linear-svc-example-scikit-learn-svm-python/"
   ]
  }
 ],
 "metadata": {
  "kernelspec": {
   "display_name": "Python 3",
   "language": "python",
   "name": "python3"
  },
  "language_info": {
   "codemirror_mode": {
    "name": "ipython",
    "version": 3
   },
   "file_extension": ".py",
   "mimetype": "text/x-python",
   "name": "python",
   "nbconvert_exporter": "python",
   "pygments_lexer": "ipython3",
   "version": "3.7.1"
  }
 },
 "nbformat": 4,
 "nbformat_minor": 2
}
