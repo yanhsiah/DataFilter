{
 "cells": [
  {
   "cell_type": "code",
   "execution_count": 1,
   "metadata": {},
   "outputs": [],
   "source": [
    "import pywt\n",
    "# (cA, cD) = pywt.dwt([1, 2, 3, 4, 5, 6], 'db1')\n",
    "# ([2.12132034 4.94974747 7.77817459], [-0.70710678 -0.70710678 -0.70710678])\n",
    "# https://pywavelets.readthedocs.io/en/latest/ref/dwt-discrete-wavelet-transform.html\n",
    "import pandas as pd\n",
    "import numpy as np\n",
    "import matplotlib.pyplot as plt\n",
    "import sklearn as sk\n",
    "from sklearn import svm\n",
    "from sklearn.model_selection import train_test_split\n",
    "from sklearn.metrics import classification_report, confusion_matrix\n",
    "# https://scikit-learn.org/stable/modules/generated/sklearn.svm.SVC.html\n",
    "from matplotlib import style\n",
    "# style.use('ggplot')"
   ]
  },
  {
   "cell_type": "code",
   "execution_count": 16,
   "metadata": {},
   "outputs": [
    {
     "data": {
      "image/png": "[encoded data removed]",
      "text/plain": [
       "<Figure size 432x288 with 1 Axes>"
      ]
     },
     "metadata": {
      "needs_background": "light"
     },
     "output_type": "display_data"
    }
   ],
   "source": [
    "df = pd.read_csv(\"filtered_chocolate/0.csv\", usecols=['ch0', 'ch1', 'ch2', 'ch3'])\n",
    "# print(df.loc[0:14])\n",
    "# print(df.loc[15:29])\n",
    "# df = df.loc[0:15].div(0.00001)\n",
    "# arr = np.array(df['ch0'].tolist())\n",
    "# arr = np.append(arr, np.array(df['ch1'].tolist()))\n",
    "# arr = np.append(arr, np.array(df['ch2'].tolist()))\n",
    "# arr = np.append(arr, np.array(df['ch3'].tolist()))\n",
    "# print(type(arr), \"arr = \", arr)\n",
    "# N = 15\n",
    "# sg, _, _, _ = plt.specgram(arr, NFFT=N, noverlap=N//2, Fs=100)\n",
    "# sg = sg.flatten()\n",
    "\n",
    "# print(\"sg = \", sg)\n",
    "# print(type(sg))\n",
    "# print(raw(df.loc[0:14]).shape)\n",
    "# print(specgram(df.loc[0:14]).shape)\n",
    "# getFeature(df.loc[0:14])\n",
    "\n",
    "# df = pd.read_csv(\"filtered_chocolate/0.csv\", usecols=['ch0', 'ch1', 'ch2', 'ch3'])\n",
    "# sg = specgram(df.loc[0:15])\n",
    "# print(sg)\n",
    "\n",
    "df = df.loc[0:14] #.reset_index(drop=True)\n",
    "# plt.plot(df)\n",
    "wt = dwt(df)\n",
    "plt.plot(wt)\n",
    "plt.show()\n",
    "# df = pd.read_csv(\"filtered_pasta/0.csv\", usecols=['ch0', 'ch1', 'ch2', 'ch3'])\n",
    "# arr = df.loc[0:14].div(0.00001)[\"ch0\"].values\n",
    "# arr = np.append(arr, arr)\n",
    "# print(arr)\n",
    "# # dwt(df.loc[0:14].values)\n",
    "# print(raw(df.loc[0:14]))"
   ]
  },
  {
   "cell_type": "code",
   "execution_count": 3,
   "metadata": {},
   "outputs": [],
   "source": [
    "def specgram(segment):\n",
    "    # featureSize = 56\n",
    "    samplingFreq = 100\n",
    "    N = 15\n",
    "    arr = np.array(segment['ch0'].tolist())\n",
    "    arr = np.append(arr, np.array(segment['ch1'].tolist()))\n",
    "    arr = np.append(arr, np.array(segment['ch2'].tolist()))\n",
    "    arr = np.append(arr, np.array(segment['ch3'].tolist()))\n",
    "    sg, _, _, _ = plt.specgram(arr, NFFT=N, noverlap=N//2, Fs=samplingFreq)\n",
    "    return sg.flatten()\n",
    "\n",
    "def wt(segment):\n",
    "    # featureSize = 8\n",
    "    return pywt.wavedec(segment[\"ch0\"], 'db1', level=3)[2]\n",
    "\n",
    "def dwt(segment):\n",
    "    # featureSize = 16\n",
    "    coeffs = pywt.dwt2(segment.values, 'haar')\n",
    "    cA, (cH, cV, cD) = coeffs\n",
    "    res = cA.flatten()\n",
    "    return res\n",
    "\n",
    "def raw(segment):\n",
    "    # featureSize = 4 * batchSize\n",
    "    res = segment[\"ch0\"].values\n",
    "    res = np.append(res, segment[\"ch1\"].values)\n",
    "    res = np.append(res, segment[\"ch2\"].values)\n",
    "    res = np.append(res, segment[\"ch3\"].values)\n",
    "    return res\n",
    "\n",
    "featureSize = 76\n",
    "def getFeature(segment):\n",
    "    segment = segment.div(0.00001)\n",
    "    res = raw(segment) # +60\n",
    "    res = np.append(res, dwt(segment)) # +16\n",
    "    # res = np.append(res, specgram(segment)) # +48\n",
    "    return res\n",
    "\n",
    "def featuresFromFile(fileName, fileNum):\n",
    "    global featureSize\n",
    "    batch = 15\n",
    "    df = pd.read_csv(\"filtered_\" + fileName + \"/\" + str(fileNum) + \".csv\", usecols=['ch0', 'ch1', 'ch2', 'ch3'])\n",
    "    pickups = np.empty(shape=[0,featureSize])\n",
    "    putdowns = np.empty(shape=[0,featureSize])\n",
    "\n",
    "    rows = df.shape[0]\n",
    "    turns = rows / batch\n",
    "    turns -= turns % 2\n",
    "    rows = turns * batch\n",
    "    r = 0\n",
    "    while r < rows:\n",
    "        # pick-up\n",
    "        pickups = np.vstack((pickups, getFeature(df.loc[r:r+batch-1])))\n",
    "        r += batch\n",
    "        # put-down\n",
    "        putdowns = np.vstack((putdowns, getFeature(df.loc[r:r+batch-1])))\n",
    "        r += batch\n",
    "    return (pickups, putdowns)\n",
    "\n",
    "def labelFeatures(pickupFeatures, pickupLabels, putdownFeatures, putdownLabels, fileName, fileNum, label):\n",
    "    (pickups, putdowns) = featuresFromFile(fileName, fileNum)\n",
    "    # register features\n",
    "    pickupFeatures = np.vstack((pickupFeatures, pickups))\n",
    "    putdownFeatures = np.vstack((putdownFeatures, putdowns))\n",
    "    # register labels\n",
    "    pickupLabels = np.vstack((pickupLabels, np.full((pickups.shape[0], 1), label)))\n",
    "    putdownLabels = np.vstack((putdownLabels, np.full((putdowns.shape[0], 1), label + 1)))\n",
    "    return (pickupFeatures, pickupLabels, putdownFeatures, putdownLabels)\n",
    "\n",
    "def trainModels(features, labels):\n",
    "    # features\n",
    "    X = features\n",
    "    # labels\n",
    "    y = labels.flatten()\n",
    "    clf = svm.SVC(C=1, kernel='poly', coef0=1.0, probability=True, tol=1e-5)\n",
    "    clf.fit(X, y)\n",
    "    return clf\n",
    "\n",
    "# def predict(pickupModel, putdownModel, fileName, fileRange, answerLabel):\n",
    "#     pickupResult = np.array([], dtype=int)\n",
    "#     putdownResult = np.array([], dtype=int)\n",
    "#     pickupCorrect = 0\n",
    "#     putdownCorrect = 0\n",
    "#     for fileNum in fileRange:\n",
    "#         (pickups, putdowns) = featuresFromFile(fileName, fileNum)\n",
    "#         pickupResult = np.append(pickupResult, pickupModel.predict(pickups))\n",
    "#         putdownResult = np.append(putdownResult, putdownModel.predict(putdowns))\n",
    "#     for label in pickupResult:\n",
    "#         if label == answerLabel:\n",
    "#             pickupCorrect += 1\n",
    "#     for label in putdownResult:\n",
    "#             if label == (answerLabel + 1):\n",
    "#                 putdownCorrect += 1\n",
    "#     print(pickupResult)\n",
    "#     print(putdownResult)\n",
    "#     print(\"{0:.2f}\".format(100.0 * pickupCorrect / pickupResult.size) + '%')\n",
    "#     print(\"{0:.2f}\".format(100.0 * putdownCorrect / putdownResult.size) + '%')\n",
    "\n",
    "def loadData(totalFiles):\n",
    "    pickupFeatures = np.empty(shape=[0, featureSize])\n",
    "    pickupLabels = np.empty(shape=[0, 1],dtype=int)\n",
    "    putdownFeatures = np.empty(shape=[0, featureSize])\n",
    "    putdownLabels = np.empty(shape=[0, 1],dtype=int)\n",
    "    for fileNum in range(totalFiles):\n",
    "        (pickupFeatures, pickupLabels, putdownFeatures, putdownLabels) = labelFeatures(pickupFeatures, pickupLabels, putdownFeatures, putdownLabels, \"chocolate\", fileNum, 1)\n",
    "        (pickupFeatures, pickupLabels, putdownFeatures, putdownLabels) = labelFeatures(pickupFeatures, pickupLabels, putdownFeatures, putdownLabels, \"peach\", fileNum, 3)\n",
    "        (pickupFeatures, pickupLabels, putdownFeatures, putdownLabels) = labelFeatures(pickupFeatures, pickupLabels, putdownFeatures, putdownLabels, \"pasta\", fileNum, 5)\n",
    "    return (pickupFeatures, pickupLabels.flatten(), putdownFeatures, putdownLabels.flatten())\n",
    "    \n"
   ]
  },
  {
   "cell_type": "code",
   "execution_count": 285,
   "metadata": {},
   "outputs": [],
   "source": [
    "(pickupFeatures, pickupLabels, putdownFeatures, putdownLabels) = loadData(16)"
   ]
  },
  {
   "cell_type": "code",
   "execution_count": 286,
   "metadata": {},
   "outputs": [
    {
     "data": {
      "text/plain": [
       "(495, 76)"
      ]
     },
     "execution_count": 286,
     "metadata": {},
     "output_type": "execute_result"
    }
   ],
   "source": [
    "pickupFeatures.shape"
   ]
  },
  {
   "cell_type": "code",
   "execution_count": 282,
   "metadata": {
    "scrolled": true
   },
   "outputs": [
    {
     "name": "stdout",
     "output_type": "stream",
     "text": [
      "              precision    recall  f1-score   support\n",
      "\n",
      "           1       0.88      0.84      0.86        25\n",
      "           5       0.90      0.92      0.91        38\n",
      "\n",
      "   micro avg       0.89      0.89      0.89        63\n",
      "   macro avg       0.89      0.88      0.88        63\n",
      "weighted avg       0.89      0.89      0.89        63\n",
      "   total avg       0.8888888888888888\n",
      "--------------------------------------------------------------\n",
      "              precision    recall  f1-score   support\n",
      "\n",
      "           2       0.88      0.91      0.89        23\n",
      "           6       0.95      0.93      0.94        40\n",
      "\n",
      "   micro avg       0.92      0.92      0.92        63\n",
      "   macro avg       0.91      0.92      0.92        63\n",
      "weighted avg       0.92      0.92      0.92        63\n",
      "  total avg        0.9206349206349206\n"
     ]
    },
    {
     "name": "stderr",
     "output_type": "stream",
     "text": [
      "/Users/allenh/anaconda3/lib/python3.7/site-packages/sklearn/svm/base.py:196: FutureWarning: The default value of gamma will change from 'auto' to 'scale' in version 0.22 to account better for unscaled features. Set gamma explicitly to 'auto' or 'scale' to avoid this warning.\n",
      "  \"avoid this warning.\", FutureWarning)\n",
      "/Users/allenh/anaconda3/lib/python3.7/site-packages/sklearn/svm/base.py:196: FutureWarning: The default value of gamma will change from 'auto' to 'scale' in version 0.22 to account better for unscaled features. Set gamma explicitly to 'auto' or 'scale' to avoid this warning.\n",
      "  \"avoid this warning.\", FutureWarning)\n"
     ]
    }
   ],
   "source": [
    "test_size = 0.2\n",
    "Pickup_train, Pickup_test, PickupLabel_train, PickupLabel_test = sk.model_selection.train_test_split(pickupFeatures, pickupLabels, test_size=test_size)\n",
    "Putdown_train, Putdown_test, PutdownLabel_train, PutdownLabel_test = sk.model_selection.train_test_split(putdownFeatures, putdownLabels, test_size=test_size)\n",
    "\n",
    "PickupModel = trainModels(Pickup_train, PickupLabel_train)\n",
    "PutdownModel = trainModels(Putdown_train, PutdownLabel_train)\n",
    "\n",
    "PickupPredict = PickupModel.predict(Pickup_test)\n",
    "PutdownPredict = PutdownModel.predict(Putdown_test)\n",
    "\n",
    "PickupAccuracy = (PickupLabel_test.reshape(-1) == PickupPredict).sum() / PickupLabel_test.shape[0]\n",
    "PutdownAccuracy = (PutdownLabel_test.reshape(-1) == PutdownPredict).sum() / PutdownLabel_test.shape[0]\n",
    "\n",
    "# print(sk.metrics.confusion_matrix(PickupLabel_test, PickupPredict))  \n",
    "print(sk.metrics.classification_report(PickupLabel_test, PickupPredict), \"  total avg      \", PickupAccuracy)\n",
    "print(\"--------------------------------------------------------------\")\n",
    "# print(sk.metrics.confusion_matrix(PutdownLabel_test, PutdownPredict))  \n",
    "print(sk.metrics.classification_report(PutdownLabel_test, PutdownPredict), \" total avg       \", PutdownAccuracy)"
   ]
  },
  {
   "cell_type": "code",
   "execution_count": 179,
   "metadata": {},
   "outputs": [],
   "source": [
    "# 1: pick up chocolate\n",
    "# 2: put down chocolate\n",
    "# 3: pick up peach\n",
    "# 4: put down peach\n",
    "# 5: pick up pasta\n",
    "# 6: put down pasta\n",
    "\n",
    "#               precision    recall  f1-score   support\n",
    "# \n",
    "#            1       0.64      0.72      0.67        39\n",
    "#            3       0.81      0.66      0.73        59\n",
    "#            5       0.82      0.92      0.87        51\n",
    "\n",
    "#    micro avg       0.77      0.77      0.77       149\n",
    "#    macro avg       0.76      0.77      0.76       149\n",
    "# weighted avg       0.77      0.77      0.76       149\n",
    "#    total avg       0.7651006711409396\n",
    "# --------------------------------------------------------------\n",
    "#               precision    recall  f1-score   support\n",
    "\n",
    "#            2       0.60      0.63      0.61        43\n",
    "#            4       0.70      0.72      0.71        46\n",
    "#            6       0.88      0.83      0.85        60\n",
    "\n",
    "#    micro avg       0.74      0.74      0.74       149\n",
    "#    macro avg       0.73      0.73      0.73       149\n",
    "# weighted avg       0.74      0.74      0.74       149\n",
    "#   total avg        0.738255033557047"
   ]
  },
  {
   "cell_type": "code",
   "execution_count": null,
   "metadata": {},
   "outputs": [],
   "source": []
  }
 ],
 "metadata": {
  "kernelspec": {
   "display_name": "Python 3",
   "language": "python",
   "name": "python3"
  },
  "language_info": {
   "codemirror_mode": {
    "name": "ipython",
    "version": 3
   },
   "file_extension": ".py",
   "mimetype": "text/x-python",
   "name": "python",
   "nbconvert_exporter": "python",
   "pygments_lexer": "ipython3",
   "version": "3.7.1"
  }
 },
 "nbformat": 4,
 "nbformat_minor": 2
}
